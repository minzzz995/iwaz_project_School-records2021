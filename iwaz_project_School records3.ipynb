{
 "cells": [
  {
   "cell_type": "code",
   "execution_count": 2,
   "id": "52879f3b",
   "metadata": {},
   "outputs": [],
   "source": [
    "import pandas as pd\n",
    "import numpy as np\n",
    "import re\n",
    "import openpyxl"
   ]
  },
  {
   "cell_type": "code",
   "execution_count": 3,
   "id": "c49e9d4c",
   "metadata": {},
   "outputs": [],
   "source": [
    "wb = openpyxl.load_workbook(r'./10.xlsx')\n",
    "ws_names = wb.sheetnames"
   ]
  },
  {
   "cell_type": "code",
   "execution_count": 4,
   "id": "81bb66f9",
   "metadata": {
    "scrolled": true
   },
   "outputs": [],
   "source": [
    "dic = list()\n",
    "for i in range(1,11):\n",
    "    data = pd.read_excel('./3차유의어정리_기재금지어목록.xlsx',sheet_name = i)\n",
    "    dic.append(list(data[\"유의어\"]))\n",
    "dic = sum(dic, [])\n",
    "#dic.remove('중')"
   ]
  },
  {
   "cell_type": "code",
   "execution_count": 5,
   "id": "702b0bdc",
   "metadata": {},
   "outputs": [],
   "source": [
    "sheet_num=0\n",
    "data=pd.read_excel('./10.xlsx',sheet_name = sheet_num)\n",
    "check = list(data.iloc[:,1])\n",
    "original_sentence = []\n",
    "words = []\n",
    "sheet_name = []\n",
    "sheet_type = []\n",
    "val = [] #sheet_type 보조\n",
    "word = [] #words 보조\n",
    "original_num = []"
   ]
  },
  {
   "cell_type": "code",
   "execution_count": 6,
   "id": "b636e77b",
   "metadata": {},
   "outputs": [],
   "source": [
    "for i in range(len(check)):\n",
    "    for j in range(len(dic)):\n",
    "        if dic[j] in check[i]:\n",
    "            check[i] = re.sub(dic[j],\"[ %s ]\" % dic[j],check[i])\n",
    "            word.append(dic[j])\n",
    "    for j in range(len(dic)):\n",
    "        if dic[j] in check[i]:\n",
    "            original_sentence.append(check[i])\n",
    "            sheet_name.append(ws_names[sheet_num])\n",
    "            a = \"07_\" + ws_names[sheet_num] + \"_\" + str(i+1)\n",
    "            original_num.append(a)\n",
    "            break\n",
    "    word = re.sub('[\\[\\]\\'\\\"]',\"\",str(word))\n",
    "    if word != [] and word != '':\n",
    "        words.append(str(word))\n",
    "    word = []\n",
    "for i in range(len(check)):\n",
    "    for j in range(len(dic)):\n",
    "        if dic[j] in check[i]:\n",
    "            val.append(j+1)\n",
    "            break\n",
    "for i in range(len(val)):\n",
    "    if val[i] <= 30:\n",
    "        sheet_type.append(\"A\")\n",
    "    elif val[i] <= 131:\n",
    "        sheet_type.append(\"B\")\n",
    "    elif val[i] <= 680:\n",
    "        sheet_type.append(\"C\")\n",
    "    elif val[i] <= 718:\n",
    "        sheet_type.append(\"D\")\n",
    "    elif val[i] <= 928:\n",
    "        sheet_type.append(\"E\")\n",
    "    elif val[i] <= 33602:\n",
    "        sheet_type.append(\"F\")\n",
    "    elif val[i] <= 33606:\n",
    "        sheet_type.append(\"G\")\n",
    "    elif val[i] <= 37597:\n",
    "        sheet_type.append(\"H\")\n",
    "    elif val[i] <= 40098:\n",
    "        sheet_type.append(\"I\")\n",
    "    else:\n",
    "        sheet_type.append(\"J\")"
   ]
  },
  {
   "cell_type": "code",
   "execution_count": 7,
   "id": "b8222b2b",
   "metadata": {},
   "outputs": [],
   "source": [
    "df = pd.DataFrame({\"순번\":np.nan,\"원문 출처\":original_num,\"원문 문장\":original_sentence,\"유의어 문장\":np.nan,\"유의어\":words,\"항목\":sheet_name,\"사유구분\":sheet_type})"
   ]
  },
  {
   "cell_type": "code",
   "execution_count": 9,
   "id": "c6ff0672",
   "metadata": {},
   "outputs": [],
   "source": [
    "#df.to_excel(excel_writer='com_07.xlsx',index=False)"
   ]
  },
  {
   "cell_type": "code",
   "execution_count": null,
   "id": "6e6b4f1f",
   "metadata": {},
   "outputs": [],
   "source": [
    "# 많이 추출되는 단어 점검"
   ]
  },
  {
   "cell_type": "code",
   "execution_count": 7,
   "id": "0e718e32",
   "metadata": {},
   "outputs": [],
   "source": [
    "dic = list()\n",
    "for i in range(1,11):\n",
    "    data = pd.read_excel('./3차유의어정리_기재금지어목록.xlsx',sheet_name = i)\n",
    "    dic.append(list(data[\"유의어\"]))\n",
    "dic = sum(dic, [])\n",
    "dic.remove('중')\n",
    "dic.remove('줌')\n",
    "dic.remove('형')"
   ]
  },
  {
   "cell_type": "code",
   "execution_count": 8,
   "id": "7e518abd",
   "metadata": {},
   "outputs": [],
   "source": [
    "data = pd.read_excel('./10.xlsx',sheet_name = 0)\n",
    "check = list(data.iloc[:,1])"
   ]
  },
  {
   "cell_type": "code",
   "execution_count": 9,
   "id": "3edbed6b",
   "metadata": {},
   "outputs": [
    {
     "name": "stdout",
     "output_type": "stream",
     "text": [
      "4 부모 936\n",
      "4 부모님 937\n",
      "4 화가 1482\n",
      "6 배우 1460\n",
      "7 등록 705\n",
      "7 애플 33606\n",
      "10 자격 663\n",
      "12 부모 936\n",
      "12 부모님 937\n",
      "13 자격 663\n",
      "13 자격증 679\n",
      "13 총무 12893\n",
      "14 2위 72\n",
      "19 수록 690\n",
      "19 교무 1322\n",
      "20 교무 1322\n",
      "22 수의사 1281\n",
      "22 배우 1460\n",
      "23 배우 1460\n",
      "24 배우 1460\n",
      "24 시장 2351\n",
      "25 중국 734\n",
      "27 총무 12893\n",
      "28 저술 702\n",
      "28 유튜브 33607\n",
      "32 부모 936\n",
      "32 부모님 937\n",
      "33 배우 1460\n",
      "34 수록 690\n",
      "35 화가 1482\n",
      "39 부모 936\n",
      "39 부모님 937\n",
      "40 배우 1460\n",
      "42 배우 1460\n",
      "44 총무 12893\n",
      "45 이란 873\n",
      "45 배우 1460\n",
      "47 교무 1322\n",
      "50 부모 936\n",
      "50 부모님 937\n",
      "50 총무 12893\n",
      "51 저자 692\n",
      "55 저자 692\n",
      "56 배우 1460\n",
      "57 중국 734\n",
      "57 배우 1460\n",
      "59 수록 690\n",
      "59 교무 1322\n",
      "63 저자 692\n",
      "64 총무 12893\n",
      "66 1위 71\n",
      "67 3위 73\n",
      "67 배우 1460\n",
      "69 기상학자 3882\n",
      "69 TED 33620\n",
      "70 배우 1460\n",
      "70 구글 33608\n",
      "74 부모 936\n",
      "74 부모님 937\n",
      "79 배우 1460\n",
      "81 배우 1460\n",
      "82 부모 936\n",
      "82 부모님 937\n",
      "87 부모 936\n",
      "87 부모님 937\n",
      "87 화가 1482\n",
      "89 부모 936\n",
      "89 부모님 937\n",
      "90 부모 936\n",
      "90 부모님 937\n",
      "90 형제 962\n",
      "90 이모 974\n",
      "93 부모 936\n",
      "93 부모님 937\n",
      "93 화가 1482\n",
      "94 부모 936\n",
      "94 부모님 937\n",
      "95 부모 936\n",
      "95 부모님 937\n",
      "97 부모 936\n",
      "97 부모님 937\n",
      "98 검증 666\n",
      "100 배우 1460\n"
     ]
    }
   ],
   "source": [
    "for i in range(100):\n",
    "    for j in range(len(dic)):\n",
    "        if dic[j] in check[i]:\n",
    "            print(i+1,dic[j],j)"
   ]
  }
 ],
 "metadata": {
  "kernelspec": {
   "display_name": "Python 3",
   "language": "python",
   "name": "python3"
  },
  "language_info": {
   "codemirror_mode": {
    "name": "ipython",
    "version": 3
   },
   "file_extension": ".py",
   "mimetype": "text/x-python",
   "name": "python",
   "nbconvert_exporter": "python",
   "pygments_lexer": "ipython3",
   "version": "3.8.8"
  }
 },
 "nbformat": 4,
 "nbformat_minor": 5
}
